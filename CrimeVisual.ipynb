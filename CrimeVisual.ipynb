{
 "cells": [
  {
   "cell_type": "markdown",
   "metadata": {},
   "source": [
    "# The most reported incident - Theft\n",
    "\n",
    "\n",
    "The crime data from the two cities Seattle and San Francisco are visualized. Questions such as, how do incidents vary by time of day for either cities? Which incidents are most common in the evening? During what periods of the day are robberies most common? are answered through visualization.\n",
    "\n",
    "If you're interested in how the plots and figures below were created, I have made available all the Python code I used to run this analysis. For details, see [the Github Repository](https://github.com/grasshopper14/crimedatavisual) or follow the links below each figure below."
   ]
  },
  {
   "cell_type": "markdown",
   "metadata": {},
   "source": [
    "## Dataset Overview"
   ]
  },
  {
   "cell_type": "markdown",
   "metadata": {},
   "source": [
    "There are two datasets from Seattle and Sanfrancisco consisting of about 32779 and 28993 reported crime incidents, respectively. There are about 35 different kinds of crimes in the dataset from Seattle while there are 40 different kinds of crimes in the dataset from San Francisco. The crimes reported in the months of June, July and August are recorded in the dataset from San Francisco while the dataset from Seattle consists of crimes reported from around the year."
   ]
  },
  {
   "cell_type": "markdown",
   "metadata": {},
   "source": [
    "Let us see how the incidents vary across day for both the data sets."
   ]
  },
  {
   "cell_type": "markdown",
   "metadata": {},
   "source": [
    "## Mean variation of crimes in a day at San Francisco\n",
    "\n",
    "The mean variations of reported crimes in a day across San Francisco is provided below. The figures below include the mean variations of individual categories of crimes in a day.\n",
    "\n",
    "The crimes can be categorized into more frequenct and less frequenct crimes. The variations of these incidents are given in the below plots. From the plots we can see that:\n",
    "\n",
    "1. Driving under the influence is highest in the early morning hours and more in the evening hours.\n",
    "2. Bribery is more reported in the early morning hours possibly related to 'Driving under the influence'.\n",
    "3. Vehicle theft increases as the day progresses and non-criminal incidents is highest in the afternoon however decreases in the evening.\n",
    "4. Through out the day the maximum number of reported crimes belong to the Larceny/theft category. In general, the number of incidents increases as the day progresses.\n",
    "5. It can also be seen how the pattern in the number of incidents significantly changes as the day progresses."
   ]
  },
  {
   "cell_type": "markdown",
   "metadata": {},
   "source": [
    "![San Francisco](files/sanlesscrimes.png)\n",
    "<small><i><a href=\"Sanfrancisco_crimedata.ipynb\">figure source</a></i></small>\n",
    "![San Francisco](files/sanfreqcrimes.png)\n",
    "<small><i><a href=\"Sanfrancisco_crimedata.ipynb\">figure source</a></i></small>"
   ]
  },
  {
   "cell_type": "markdown",
   "metadata": {},
   "source": [
    "## Mean variation of crimes in a day at Seattle\n",
    "\n",
    "The mean variations of reported crimes in a day across Seattle is provided below. The figures below include the mean variations of individual categories of crimes in a day.\n",
    "\n",
    "The crimes can be categorized into more frequenct and less frequenct crimes. The variations of these incidents are given in the below plots. From the plots we can see that:\n",
    "\n",
    "1. Driving under the influence (DUI) is highest in the early morning hours and more in the evening hours (similar to San Francisco).\n",
    "2. Forgery is more in the day time than in the evening or early morning hours.\n",
    "3. As one might expect, the firework incidents are reported at the end of the day.\n",
    "4. Some incidents such as Fraud, Forgery increases significantly as the day starts and they are highest in the afternoon hours.\n",
    "5. Through out the day the maximum number of reported crimes belong to the 'Car Prowl' category. The problem of car prowling in Seattle has been reported here: https://www.seattletimes.com/seattle-news/car-prowls-becoming-seattle-headache/\n",
    "6. It can also be seen how the pattern in the number of incidents significantly changes as the day progresses."
   ]
  },
  {
   "cell_type": "markdown",
   "metadata": {},
   "source": [
    "![Seattle](files/seattlelesscrimes.png)\n",
    "<small><i><a href=\"Seattle_crimedata.ipynb\">figure source</a></i></small>\n",
    "![Seattle](files/seattlefreqcrimes.png)\n",
    "<small><i><a href=\"Seattle_crimedata.ipynb\">figure source</a></i></small>"
   ]
  },
  {
   "cell_type": "markdown",
   "metadata": {},
   "source": [
    "## Trends in the two cities "
   ]
  },
  {
   "cell_type": "markdown",
   "metadata": {},
   "source": [
    "### Robbery\n",
    "\n",
    "Incidents of robbery is more in Seattle when compared to San Francisco. In both the cities, the number of incidents is less in the morning hours and increases by afternoon. \n"
   ]
  },
  {
   "cell_type": "markdown",
   "metadata": {},
   "source": [
    "![Robbery](files/seattlesanrobbery.png)\n",
    "<small><i><a href=\"Seattle_crimedata.ipynb\">figure source</a></i></small>"
   ]
  },
  {
   "cell_type": "markdown",
   "metadata": {},
   "source": [
    "### Total number of incidents\n",
    "\n",
    "The total number of incidents is usually less in both the cities and it raises as the day progresses. The number of incidents is more in Seattle in the morning hours when compared to the incidents in San Francisco. However, the number of incidents become less in the evening. The number of incidents in San Francisco is more at the noon time and in the evening time. "
   ]
  },
  {
   "cell_type": "markdown",
   "metadata": {},
   "source": [
    "![Total](files/seattlesantotal.png)\n",
    "<small><i><a href=\"Seattle_crimedata.ipynb\">figure source</a></i></small>"
   ]
  }
 ],
 "metadata": {
  "kernelspec": {
   "display_name": "Python 3",
   "language": "python",
   "name": "python3"
  },
  "language_info": {
   "codemirror_mode": {
    "name": "ipython",
    "version": 3
   },
   "file_extension": ".py",
   "mimetype": "text/x-python",
   "name": "python",
   "nbconvert_exporter": "python",
   "pygments_lexer": "ipython3",
   "version": "3.5.2"
  }
 },
 "nbformat": 4,
 "nbformat_minor": 1
}
